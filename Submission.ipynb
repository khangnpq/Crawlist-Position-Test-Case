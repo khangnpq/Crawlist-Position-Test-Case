{
 "cells": [
  {
   "cell_type": "markdown",
   "metadata": {
    "collapsed": true
   },
   "source": [
    "## 1. Install package"
   ]
  },
  {
   "cell_type": "code",
   "execution_count": null,
   "metadata": {},
   "outputs": [],
   "source": [
    "!pip install selenium\n",
    "!pip install webdriver_manager"
   ]
  },
  {
   "cell_type": "markdown",
   "metadata": {},
   "source": [
    "## 2. Import packages"
   ]
  },
  {
   "cell_type": "code",
   "execution_count": 1,
   "metadata": {},
   "outputs": [],
   "source": [
    "import json\n",
    "from selenium import webdriver\n",
    "from webdriver_manager.chrome import ChromeDriverManager"
   ]
  },
  {
   "cell_type": "markdown",
   "metadata": {},
   "source": [
    "## 3. Define functions "
   ]
  },
  {
   "cell_type": "code",
   "execution_count": 2,
   "metadata": {},
   "outputs": [],
   "source": [
    "def tiki_crawer(webpage):\n",
    "    driver = webdriver.Chrome(ChromeDriverManager().install())\n",
    "    driver.get(webpage)\n",
    "\n",
    "    #get product_name\n",
    "    product_name = driver.find_element_by_xpath('//*[@id=\"product-name\"]').text\n",
    "    #get product_url\n",
    "    product_url = driver.current_url\n",
    "    #get product info dictionary\n",
    "    default_product = driver.execute_script('return defaultProduct')\n",
    "    #current_seller is a key in default_product, get seller\n",
    "    current_seller = default_product[\"current_seller\"]\n",
    "    seller_id = current_seller[\"store_id\"]\n",
    "    store_name = current_seller[\"name\"]\n",
    "    seller = {\"store_id\": seller_id, \"name\": store_name}\n",
    "    #get brand_name\n",
    "    brand_name = driver.find_element_by_class_name(\"item-brand\").text.split(\":\")[-1][1] #Thương hiệu: abc xyz\n",
    "    #get category\n",
    "    cat_ele = driver.find_element_by_xpath(\"//ul[@class='breadcrumb']\")\n",
    "    cat = cat_ele.text.split(\"\\n\")[1:-1] #0: Trang chủ, -1: sản phẩm hiện tại\n",
    "    #get item_id\n",
    "    the_id = current_seller[\"product_id\"]\n",
    "    sku = current_seller[\"sku\"]\n",
    "    product_id = driver.execute_script('return masterProductId')\n",
    "    item_id = {\"id\": int(the_id), \"sku\": sku, \"product_id\": product_id}\n",
    "    #get price_original\n",
    "    price_original = default_product[\"list_price\"]\n",
    "    #get price_sale\n",
    "    price_sale = default_product[\"price\"]\n",
    "    #get discount\n",
    "    discount = default_product[\"discount_percent\"]\n",
    "    #stock information dictionary\n",
    "    stock_dict = default_product[\"stock_item\"]\n",
    "    #get stock\n",
    "    stock = stock_dict[\"qty\"]\n",
    "    #get min_stock_sale\n",
    "    min_stock_sale = stock_dict[\"min_sale_qty\"]\n",
    "    #get max_stock_sale\n",
    "    max_stock_sale = stock_dict[\"max_sale_qty\"]\n",
    "    #result dictionary\n",
    "    output = {\"product_name\": product_name, \"product_url\": product_url, \"seller\": seller, \n",
    "              \"brand_name\": brand_name, \"cat\": cat, \"seller_id\": seller_id, \"item_id\": item_id, \n",
    "              \"price_original\": price_original, \"price_sale\": price_sale, \"discount\": discount, \n",
    "              \"stock\": stock, \"min_stock_sale\": min_stock_sale, \"max_stock_sale\": max_stock_sale}\n",
    "    return output"
   ]
  },
  {
   "cell_type": "markdown",
   "metadata": {},
   "source": [
    "## 4. Start the crawling process"
   ]
  },
  {
   "cell_type": "code",
   "execution_count": 3,
   "metadata": {},
   "outputs": [
    {
     "name": "stdout",
     "output_type": "stream",
     "text": [
      "\n",
      "Looking for [chromedriver 85.0.4183.87 win32] driver in cache \n",
      "File found in cache by path [C:\\Users\\DELL\\.wdm\\drivers\\chromedriver\\85.0.4183.87\\win32\\chromedriver.exe]\n"
     ]
    }
   ],
   "source": [
    "webpage = r\"https://tiki.vn/p39089308.html\" # edit me\n",
    "output = tiki_crawer(webpage)"
   ]
  },
  {
   "cell_type": "code",
   "execution_count": 4,
   "metadata": {},
   "outputs": [
    {
     "name": "stdout",
     "output_type": "stream",
     "text": [
      "{'product_name': 'Sữa Bột Enfagrow A+ 4 (400g)', 'product_url': 'https://tiki.vn/p39089308.html', 'seller': {'store_id': 40395, 'name': 'Tiki Trading'}, 'brand_name': 'E', 'cat': ['Đồ Chơi - Mẹ & Bé', 'Dinh dưỡng cho bé', 'Sữa bột cho bé', 'Sữa cho bé dưới 24 tháng'], 'seller_id': 40395, 'item_id': {'id': 39089309, 'sku': '6204438643240', 'product_id': 39089308}, 'price_original': 236000, 'price_sale': 218000, 'discount': 8, 'stock': 18, 'min_stock_sale': 1, 'max_stock_sale': 30}\n"
     ]
    }
   ],
   "source": [
    "print(output)"
   ]
  },
  {
   "cell_type": "markdown",
   "metadata": {},
   "source": [
    "## 5. Write result to json"
   ]
  },
  {
   "cell_type": "code",
   "execution_count": 5,
   "metadata": {},
   "outputs": [],
   "source": [
    "with open('output.json', 'w', encoding='utf-8') as file:\n",
    "    json.dump(output, file, ensure_ascii=False)"
   ]
  }
 ],
 "metadata": {
  "kernelspec": {
   "display_name": "Python 3",
   "language": "python",
   "name": "python3"
  },
  "language_info": {
   "codemirror_mode": {
    "name": "ipython",
    "version": 3
   },
   "file_extension": ".py",
   "mimetype": "text/x-python",
   "name": "python",
   "nbconvert_exporter": "python",
   "pygments_lexer": "ipython3",
   "version": "3.6.2"
  }
 },
 "nbformat": 4,
 "nbformat_minor": 4
}
