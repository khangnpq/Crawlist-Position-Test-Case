{
 "cells": [
  {
   "cell_type": "code",
   "execution_count": 1,
   "metadata": {
    "collapsed": true
   },
   "outputs": [
    {
     "name": "stdout",
     "output_type": "stream",
     "text": [
      "Collecting scrapy\n",
      "  Downloading Scrapy-2.3.0-py2.py3-none-any.whl (237 kB)\n",
      "Collecting parsel>=1.5.0\n",
      "  Downloading parsel-1.6.0-py2.py3-none-any.whl (13 kB)\n",
      "Collecting itemadapter>=0.1.0\n",
      "  Downloading itemadapter-0.1.0-py3-none-any.whl (7.0 kB)\n",
      "Collecting cssselect>=0.9.1\n",
      "  Downloading cssselect-1.1.0-py2.py3-none-any.whl (16 kB)\n",
      "Collecting lxml>=3.5.0\n",
      "  Downloading lxml-4.5.2-cp36-cp36m-win_amd64.whl (3.5 MB)\n",
      "Collecting service-identity>=16.0.0\n",
      "  Downloading service_identity-18.1.0-py2.py3-none-any.whl (11 kB)\n",
      "Collecting zope.interface>=4.1.3\n",
      "  Downloading zope.interface-5.1.0-cp36-cp36m-win_amd64.whl (194 kB)\n",
      "Collecting queuelib>=1.4.2\n",
      "  Downloading queuelib-1.5.0-py2.py3-none-any.whl (13 kB)\n",
      "Collecting PyDispatcher>=2.0.5\n",
      "  Downloading PyDispatcher-2.0.5.tar.gz (34 kB)\n",
      "Collecting protego>=0.1.15\n",
      "  Downloading Protego-0.1.16.tar.gz (3.2 MB)\n",
      "Collecting cryptography>=2.0\n",
      "  Downloading cryptography-3.1.1-cp36-cp36m-win_amd64.whl (1.5 MB)\n",
      "Collecting itemloaders>=1.0.1\n",
      "  Downloading itemloaders-1.0.3-py3-none-any.whl (11 kB)\n",
      "Collecting pyOpenSSL>=16.2.0\n",
      "  Downloading pyOpenSSL-19.1.0-py2.py3-none-any.whl (53 kB)\n",
      "Collecting w3lib>=1.17.0\n",
      "  Downloading w3lib-1.22.0-py2.py3-none-any.whl (20 kB)\n",
      "Collecting Twisted>=17.9.0\n",
      "  Downloading Twisted-20.3.0-cp36-cp36m-win_amd64.whl (3.1 MB)\n",
      "Requirement already satisfied: six>=1.6.0 in c:\\python36\\lib\\site-packages (from parsel>=1.5.0->scrapy) (1.14.0)\n",
      "Requirement already satisfied: attrs>=16.0.0 in c:\\python36\\lib\\site-packages (from service-identity>=16.0.0->scrapy) (19.3.0)\n",
      "Requirement already satisfied: pyasn1 in c:\\python36\\lib\\site-packages (from service-identity>=16.0.0->scrapy) (0.4.8)\n",
      "Requirement already satisfied: pyasn1-modules in c:\\python36\\lib\\site-packages (from service-identity>=16.0.0->scrapy) (0.2.8)\n",
      "Requirement already satisfied: setuptools in c:\\python36\\lib\\site-packages (from zope.interface>=4.1.3->scrapy) (46.1.3)\n",
      "Collecting cffi!=1.11.3,>=1.8\n",
      "  Downloading cffi-1.14.3-cp36-cp36m-win_amd64.whl (178 kB)\n",
      "Requirement already satisfied: jmespath>=0.9.5 in c:\\python36\\lib\\site-packages (from itemloaders>=1.0.1->scrapy) (0.9.5)\n",
      "Collecting hyperlink>=17.1.1\n",
      "  Downloading hyperlink-20.0.1-py2.py3-none-any.whl (48 kB)\n",
      "Collecting constantly>=15.1\n",
      "  Downloading constantly-15.1.0-py2.py3-none-any.whl (7.9 kB)\n",
      "Collecting incremental>=16.10.1\n",
      "  Downloading incremental-17.5.0-py2.py3-none-any.whl (16 kB)\n",
      "Collecting PyHamcrest!=1.10.0,>=1.9.0\n",
      "  Downloading PyHamcrest-2.0.2-py3-none-any.whl (52 kB)\n",
      "Collecting Automat>=0.3.0\n",
      "  Downloading Automat-20.2.0-py2.py3-none-any.whl (31 kB)\n",
      "Collecting pycparser\n",
      "  Downloading pycparser-2.20-py2.py3-none-any.whl (112 kB)\n",
      "Requirement already satisfied: idna>=2.5 in c:\\python36\\lib\\site-packages (from hyperlink>=17.1.1->Twisted>=17.9.0->scrapy) (2.8)\n",
      "Building wheels for collected packages: PyDispatcher, protego\n",
      "  Building wheel for PyDispatcher (setup.py): started\n",
      "  Building wheel for PyDispatcher (setup.py): finished with status 'done'\n",
      "  Created wheel for PyDispatcher: filename=PyDispatcher-2.0.5-py3-none-any.whl size=12552 sha256=439667332266be83aa94cfdaf117931fb6382f9dbcebbeebd3d2f752ca9383cb\n",
      "  Stored in directory: c:\\users\\dell\\appdata\\local\\pip\\cache\\wheels\\28\\db\\61\\691c759da06ba9b86da079bdd17cb3e01828d49d5c152cb3af\n",
      "  Building wheel for protego (setup.py): started\n",
      "  Building wheel for protego (setup.py): finished with status 'done'\n",
      "  Created wheel for protego: filename=Protego-0.1.16-py3-none-any.whl size=7769 sha256=619eb78f76c5f9c73e1cecdd544f0232c7ba0762a9132a1ed1809ff7487cae6c\n",
      "  Stored in directory: c:\\users\\dell\\appdata\\local\\pip\\cache\\wheels\\b2\\74\\25\\517a0ec6186297704db56664268e72686f5cfa8ab398582f33\n",
      "Successfully built PyDispatcher protego\n",
      "Installing collected packages: w3lib, lxml, cssselect, parsel, itemadapter, pycparser, cffi, cryptography, service-identity, zope.interface, queuelib, PyDispatcher, protego, itemloaders, pyOpenSSL, hyperlink, constantly, incremental, PyHamcrest, Automat, Twisted, scrapy\n",
      "Successfully installed Automat-20.2.0 PyDispatcher-2.0.5 PyHamcrest-2.0.2 Twisted-20.3.0 cffi-1.14.3 constantly-15.1.0 cryptography-3.1.1 cssselect-1.1.0 hyperlink-20.0.1 incremental-17.5.0 itemadapter-0.1.0 itemloaders-1.0.3 lxml-4.5.2 parsel-1.6.0 protego-0.1.16 pyOpenSSL-19.1.0 pycparser-2.20 queuelib-1.5.0 scrapy-2.3.0 service-identity-18.1.0 w3lib-1.22.0 zope.interface-5.1.0\n"
     ]
    },
    {
     "name": "stderr",
     "output_type": "stream",
     "text": [
      "WARNING: You are using pip version 20.1.1; however, version 20.2.3 is available.\n",
      "You should consider upgrading via the 'c:\\python36\\python.exe -m pip install --upgrade pip' command.\n"
     ]
    }
   ],
   "source": [
    "!pip install scrapy"
   ]
  },
  {
   "cell_type": "code",
   "execution_count": 110,
   "metadata": {},
   "outputs": [
    {
     "name": "stdout",
     "output_type": "stream",
     "text": [
      "\n",
      "Looking for [chromedriver 85.0.4183.87 win32] driver in cache \n",
      "File found in cache by path [C:\\Users\\DELL\\.wdm\\drivers\\chromedriver\\85.0.4183.87\\win32\\chromedriver.exe]\n"
     ]
    },
    {
     "name": "stderr",
     "output_type": "stream",
     "text": [
      "2020-09-25 15:00:56 [selenium.webdriver.remote.remote_connection] DEBUG: POST http://127.0.0.1:63686/session {\"capabilities\": {\"firstMatch\": [{}], \"alwaysMatch\": {\"browserName\": \"chrome\", \"platformName\": \"any\", \"goog:chromeOptions\": {\"extensions\": [], \"args\": []}}}, \"desiredCapabilities\": {\"browserName\": \"chrome\", \"version\": \"\", \"platform\": \"ANY\", \"goog:chromeOptions\": {\"extensions\": [], \"args\": []}}}\n",
      "2020-09-25 15:00:56 [urllib3.connectionpool] DEBUG: Starting new HTTP connection (1): 127.0.0.1:63686\n",
      "2020-09-25 15:00:59 [urllib3.connectionpool] DEBUG: http://127.0.0.1:63686 \"POST /session HTTP/1.1\" 200 717\n",
      "2020-09-25 15:00:59 [selenium.webdriver.remote.remote_connection] DEBUG: Finished Request\n",
      "2020-09-25 15:00:59 [selenium.webdriver.remote.remote_connection] DEBUG: POST http://127.0.0.1:63686/session/b6492fc7a3f749a203eacf2e82a3a2cc/url {\"url\": \"https://tiki.vn/p39089308.html\"}\n",
      "2020-09-25 15:01:00 [urllib3.connectionpool] DEBUG: http://127.0.0.1:63686 \"POST /session/b6492fc7a3f749a203eacf2e82a3a2cc/url HTTP/1.1\" 200 14\n",
      "2020-09-25 15:01:00 [selenium.webdriver.remote.remote_connection] DEBUG: Finished Request\n",
      "2020-09-25 15:01:00 [selenium.webdriver.remote.remote_connection] DEBUG: POST http://127.0.0.1:63686/session/b6492fc7a3f749a203eacf2e82a3a2cc/element {\"using\": \"xpath\", \"value\": \"//*[@id=\\\"product-name\\\"]\"}\n",
      "2020-09-25 15:01:00 [urllib3.connectionpool] DEBUG: http://127.0.0.1:63686 \"POST /session/b6492fc7a3f749a203eacf2e82a3a2cc/element HTTP/1.1\" 200 88\n",
      "2020-09-25 15:01:00 [selenium.webdriver.remote.remote_connection] DEBUG: Finished Request\n",
      "2020-09-25 15:01:00 [selenium.webdriver.remote.remote_connection] DEBUG: GET http://127.0.0.1:63686/session/b6492fc7a3f749a203eacf2e82a3a2cc/url {}\n",
      "2020-09-25 15:01:00 [urllib3.connectionpool] DEBUG: http://127.0.0.1:63686 \"GET /session/b6492fc7a3f749a203eacf2e82a3a2cc/url HTTP/1.1\" 200 42\n",
      "2020-09-25 15:01:00 [selenium.webdriver.remote.remote_connection] DEBUG: Finished Request\n",
      "2020-09-25 15:01:00 [selenium.webdriver.remote.remote_connection] DEBUG: POST http://127.0.0.1:63686/session/b6492fc7a3f749a203eacf2e82a3a2cc/execute/sync {\"script\": \"return masterProductId\", \"args\": []}\n",
      "2020-09-25 15:01:00 [urllib3.connectionpool] DEBUG: http://127.0.0.1:63686 \"POST /session/b6492fc7a3f749a203eacf2e82a3a2cc/execute/sync HTTP/1.1\" 200 18\n",
      "2020-09-25 15:01:00 [selenium.webdriver.remote.remote_connection] DEBUG: Finished Request\n",
      "2020-09-25 15:01:00 [selenium.webdriver.remote.remote_connection] DEBUG: POST http://127.0.0.1:63686/session/b6492fc7a3f749a203eacf2e82a3a2cc/execute/sync {\"script\": \"return defaultProduct\", \"args\": []}\n",
      "2020-09-25 15:01:00 [urllib3.connectionpool] DEBUG: http://127.0.0.1:63686 \"POST /session/b6492fc7a3f749a203eacf2e82a3a2cc/execute/sync HTTP/1.1\" 200 7366\n",
      "2020-09-25 15:01:00 [selenium.webdriver.remote.remote_connection] DEBUG: Finished Request\n",
      "2020-09-25 15:01:00 [selenium.webdriver.remote.remote_connection] DEBUG: POST http://127.0.0.1:63686/session/b6492fc7a3f749a203eacf2e82a3a2cc/element {\"using\": \"css selector\", \"value\": \".item-brand\"}\n",
      "2020-09-25 15:01:01 [urllib3.connectionpool] DEBUG: http://127.0.0.1:63686 \"POST /session/b6492fc7a3f749a203eacf2e82a3a2cc/element HTTP/1.1\" 200 88\n",
      "2020-09-25 15:01:01 [selenium.webdriver.remote.remote_connection] DEBUG: Finished Request\n",
      "2020-09-25 15:01:01 [selenium.webdriver.remote.remote_connection] DEBUG: GET http://127.0.0.1:63686/session/b6492fc7a3f749a203eacf2e82a3a2cc/element/a391e6ee-c5de-481f-86af-dab71c93b6b5/text {\"id\": \"a391e6ee-c5de-481f-86af-dab71c93b6b5\"}\n",
      "2020-09-25 15:01:02 [urllib3.connectionpool] DEBUG: http://127.0.0.1:63686 \"GET /session/b6492fc7a3f749a203eacf2e82a3a2cc/element/a391e6ee-c5de-481f-86af-dab71c93b6b5/text HTTP/1.1\" 200 33\n",
      "2020-09-25 15:01:02 [selenium.webdriver.remote.remote_connection] DEBUG: Finished Request\n",
      "2020-09-25 15:01:02 [selenium.webdriver.remote.remote_connection] DEBUG: POST http://127.0.0.1:63686/session/b6492fc7a3f749a203eacf2e82a3a2cc/element {\"using\": \"xpath\", \"value\": \"//ul[@class='breadcrumb']\"}\n",
      "2020-09-25 15:01:02 [urllib3.connectionpool] DEBUG: http://127.0.0.1:63686 \"POST /session/b6492fc7a3f749a203eacf2e82a3a2cc/element HTTP/1.1\" 200 88\n",
      "2020-09-25 15:01:02 [selenium.webdriver.remote.remote_connection] DEBUG: Finished Request\n",
      "2020-09-25 15:01:02 [selenium.webdriver.remote.remote_connection] DEBUG: GET http://127.0.0.1:63686/session/b6492fc7a3f749a203eacf2e82a3a2cc/element/4f2991ea-478c-43ef-be38-d5dcc1b69c88/text {\"id\": \"4f2991ea-478c-43ef-be38-d5dcc1b69c88\"}\n",
      "2020-09-25 15:01:02 [urllib3.connectionpool] DEBUG: http://127.0.0.1:63686 \"GET /session/b6492fc7a3f749a203eacf2e82a3a2cc/element/4f2991ea-478c-43ef-be38-d5dcc1b69c88/text HTTP/1.1\" 200 160\n",
      "2020-09-25 15:01:02 [selenium.webdriver.remote.remote_connection] DEBUG: Finished Request\n",
      "2020-09-25 15:01:02 [selenium.webdriver.remote.remote_connection] DEBUG: GET http://127.0.0.1:63686/session/b6492fc7a3f749a203eacf2e82a3a2cc/element/8dff1498-ce7a-43db-ad46-a7dda5ae55ad/text {\"id\": \"8dff1498-ce7a-43db-ad46-a7dda5ae55ad\"}\n",
      "2020-09-25 15:01:02 [urllib3.connectionpool] DEBUG: http://127.0.0.1:63686 \"GET /session/b6492fc7a3f749a203eacf2e82a3a2cc/element/8dff1498-ce7a-43db-ad46-a7dda5ae55ad/text HTTP/1.1\" 200 44\n",
      "2020-09-25 15:01:02 [selenium.webdriver.remote.remote_connection] DEBUG: Finished Request\n"
     ]
    }
   ],
   "source": [
    "from selenium import webdriver\n",
    "from webdriver_manager.chrome import ChromeDriverManager\n",
    "\n",
    "chrome_path = 'C:/Program Files (x86)/Google/Chrome/Application/chrome.exe %s'\n",
    "webpage = r\"https://tiki.vn/p39089308.html\" # edit me\n",
    "\n",
    "driver = webdriver.Chrome(ChromeDriverManager().install())\n",
    "driver.get(webpage)\n",
    "\n",
    "product_name = driver.find_element_by_xpath('//*[@id=\"product-name\"]')\n",
    "product_url = driver.current_url\n",
    "product_id = driver.execute_script('return masterProductId')\n",
    "default_product = driver.execute_script('return defaultProduct')\n",
    "current_seller = default_product[\"current_seller\"]\n",
    "store_id = current_seller[\"store_id\"]\n",
    "store_name = current_seller[\"name\"]\n",
    "brand_name = driver.find_element_by_class_name(\"item-brand\").text.split(\" \")[-1]\n",
    "cat_ele = driver.find_element_by_xpath(\"//ul[@class='breadcrumb']\")\n",
    "cat = cat_ele.text.split(\"\\n\")\n",
    "del cat[-1]\n",
    "del cat[0]\n",
    "item_id = current_seller[\"product_id\"]\n",
    "sku = current_seller[\"sku\"]\n",
    "price_original = default_product[\"list_price\"]\n",
    "price_sale = default_product[\"price\"]\n",
    "discount = default_product[\"discount_percent\"]\n",
    "stock_dict = default_product[\"stock_item\"]\n",
    "stock = stock_dict[\"qty\"]\n",
    "min_stock_sale = stock_dict[\"min_sale_qty\"]\n",
    "max_stock_sale = stock_dict[\"max_sale_qty\"]\n",
    "\n",
    "seller = {}\n",
    "seller[\"store_id\"] = store_id\n",
    "seller[\"name\"] = store_name\n",
    "item_dict = {}\n",
    "item_dict[\"id\"] = item_id\n",
    "item_dict[\"sku\"] = sku\n",
    "item_dict[\"product_id\"] = product_id\n",
    "\n",
    "output = {}\n",
    "output[\"product_name\"] = product_name.text\n",
    "output[\"product_url\"] = product_url\n",
    "output[\"seller\"] = seller\n",
    "output[\"brand_name\"] = brand_name\n",
    "output[\"cat\"] = cat\n",
    "output[\"seller_id\"] = store_id\n",
    "output[\"item_id\"] = item_dict\n",
    "output[\"price_original\"] = price_original\n",
    "output[\"price_sale\"] = price_sale\n",
    "output[\"discount\"] = discount\n",
    "output[\"stock\"] = stock\n",
    "output[\"min_stock_sale\"] = min_stock_sale\n",
    "output[\"max_stock_sale\"] = max_stock_sale"
   ]
  },
  {
   "cell_type": "code",
   "execution_count": 111,
   "metadata": {},
   "outputs": [
    {
     "name": "stdout",
     "output_type": "stream",
     "text": [
      "{'product_name': 'Sữa Bột Enfagrow A+ 4 (400g)', 'product_url': 'https://tiki.vn/p39089308.html', 'seller': {'store_id': 40395, 'name': 'Tiki Trading'}, 'brand_name': 'Enfa', 'cat': ['Đồ Chơi - Mẹ & Bé', 'Dinh dưỡng cho bé', 'Sữa bột cho bé', 'Sữa cho bé dưới 24 tháng'], 'seller_id': 40395, 'item_id': {'id': '39089309', 'sku': '6204438643240', 'product_id': 39089308}, 'price_original': 236000, 'price_sale': 218000, 'discount': 8, 'stock': 18, 'min_stock_sale': 1, 'max_stock_sale': 30}\n"
     ]
    }
   ],
   "source": [
    "print(output)"
   ]
  },
  {
   "cell_type": "code",
   "execution_count": 113,
   "metadata": {},
   "outputs": [],
   "source": [
    "import json\n",
    "with open('output.json', 'w', encoding='utf-8') as file:\n",
    "    json.dump(output, file, ensure_ascii=False)"
   ]
  },
  {
   "cell_type": "code",
   "execution_count": null,
   "metadata": {},
   "outputs": [],
   "source": []
  }
 ],
 "metadata": {
  "kernelspec": {
   "display_name": "Python 3",
   "language": "python",
   "name": "python3"
  },
  "language_info": {
   "codemirror_mode": {
    "name": "ipython",
    "version": 3
   },
   "file_extension": ".py",
   "mimetype": "text/x-python",
   "name": "python",
   "nbconvert_exporter": "python",
   "pygments_lexer": "ipython3",
   "version": "3.6.2"
  }
 },
 "nbformat": 4,
 "nbformat_minor": 4
}
